{
 "cells": [
  {
   "cell_type": "code",
   "execution_count": 1,
   "metadata": {},
   "outputs": [
    {
     "name": "stderr",
     "output_type": "stream",
     "text": [
      "Using TensorFlow backend.\n"
     ]
    }
   ],
   "source": [
    "from keras.layers import Dense, Convolution2D, MaxPooling2D, Input, Activation, Dropout\n",
    "from keras.optimizers import SGD, Adam\n",
    "from keras.models import Sequential\n",
    "from keras.layers.recurrent import LSTM\n",
    "import numpy as np\n",
    "import matplotlib.pyplot as plt\n",
    "from mpl_toolkits.mplot3d import Axes3D\n",
    "import os\n",
    "from sklearn.preprocessing import MinMaxScaler\n"
   ]
  },
  {
   "cell_type": "code",
   "execution_count": 2,
   "metadata": {},
   "outputs": [
    {
     "name": "stdout",
     "output_type": "stream",
     "text": [
      "(1000, 299, 3)\n"
     ]
    }
   ],
   "source": [
    "path = './test300/'\n",
    "\n",
    "def load_data():\n",
    "\tdataset = []\n",
    "\tfilenames = os.listdir(path)\n",
    "\tindex = 0\n",
    "\tfor file in filenames:\n",
    "\t\tdata = np.loadtxt(path+file, dtype='float32')\n",
    "\t\tdataset.append(data)\n",
    "\t\tindex = index + 1\n",
    "\tprint(np.array(dataset).shape)\n",
    "\treturn dataset\n",
    "\n",
    "x_train = load_data()\n",
    "x_train = np.array(x_train)\n",
    "\n",
    "x_test = x_train[1:15][:][:]\n",
    "x_test = np.array(x_test)\n"
   ]
  },
  {
   "cell_type": "code",
   "execution_count": 3,
   "metadata": {},
   "outputs": [],
   "source": [
    "model = Sequential()"
   ]
  },
  {
   "cell_type": "code",
   "execution_count": 4,
   "metadata": {},
   "outputs": [
    {
     "name": "stderr",
     "output_type": "stream",
     "text": [
      "C:\\Users\\minji\\Anaconda3\\envs\\test\\lib\\site-packages\\ipykernel_launcher.py:1: UserWarning: Update your `Dense` call to the Keras 2 API: `Dense(256, activation=\"relu\", input_shape=(299, 3), kernel_initializer=\"glorot_uniform\")`\n",
      "  \"\"\"Entry point for launching an IPython kernel.\n"
     ]
    }
   ],
   "source": [
    "model.add(Dense(256, input_shape=(299, 3), init='glorot_uniform', activation = 'relu'))\n",
    "model.add(Dropout(0.3))\n"
   ]
  },
  {
   "cell_type": "code",
   "execution_count": 8,
   "metadata": {},
   "outputs": [
    {
     "name": "stderr",
     "output_type": "stream",
     "text": [
      "C:\\Users\\minji\\Anaconda3\\envs\\test\\lib\\site-packages\\ipykernel_launcher.py:3: UserWarning: Update your `Dense` call to the Keras 2 API: `Dense(256, activation=\"relu\", kernel_initializer=\"glorot_uniform\")`\n",
      "  This is separate from the ipykernel package so we can avoid doing imports until\n",
      "C:\\Users\\minji\\Anaconda3\\envs\\test\\lib\\site-packages\\ipykernel_launcher.py:4: UserWarning: Update your `Dense` call to the Keras 2 API: `Dense(256, activation=\"relu\", kernel_initializer=\"glorot_uniform\")`\n",
      "  after removing the cwd from sys.path.\n",
      "C:\\Users\\minji\\Anaconda3\\envs\\test\\lib\\site-packages\\ipykernel_launcher.py:5: UserWarning: Update your `Dense` call to the Keras 2 API: `Dense(64, activation=\"relu\", kernel_initializer=\"glorot_uniform\")`\n",
      "  \"\"\"\n",
      "C:\\Users\\minji\\Anaconda3\\envs\\test\\lib\\site-packages\\ipykernel_launcher.py:6: UserWarning: Update your `Dense` call to the Keras 2 API: `Dense(3, activation=\"relu\", kernel_initializer=\"glorot_uniform\")`\n",
      "  \n"
     ]
    }
   ],
   "source": [
    "model.add(Dense(256, activation = 'relu'))\n",
    "model.add(Dropout(0.3))\n",
    "model.add(Dense(256, init='glorot_uniform', activation = 'relu'))\n",
    "model.add(Dense(256, init='glorot_uniform', activation = 'relu'))\n",
    "model.add(Dense(64, init='glorot_uniform', activation = 'relu'))\n",
    "model.add(Dense(3, init='glorot_uniform', activation = 'relu'))"
   ]
  },
  {
   "cell_type": "code",
   "execution_count": 9,
   "metadata": {},
   "outputs": [],
   "source": [
    "model.compile(loss='binary_crossentropy', optimizer='adam', metrics=['accuracy'])"
   ]
  },
  {
   "cell_type": "code",
   "execution_count": 10,
   "metadata": {},
   "outputs": [
    {
     "name": "stderr",
     "output_type": "stream",
     "text": [
      "C:\\Users\\minji\\Anaconda3\\envs\\test\\lib\\site-packages\\ipykernel_launcher.py:5: UserWarning: The `nb_epoch` argument in `fit` has been renamed `epochs`.\n",
      "  \"\"\"\n"
     ]
    },
    {
     "name": "stdout",
     "output_type": "stream",
     "text": [
      "Train on 1000 samples, validate on 14 samples\n",
      "Epoch 1/50\n",
      "1000/1000 [==============================] - 2s 2ms/step - loss: -2926292.8625 - acc: 2.2297e-06 - val_loss: -2922280.0000 - val_acc: 0.0000e+00\n",
      "Epoch 2/50\n",
      "1000/1000 [==============================] - 1s 1ms/step - loss: -2926426.0625 - acc: 3.3445e-06 - val_loss: -2922280.0000 - val_acc: 0.0000e+00\n",
      "Epoch 3/50\n",
      "1000/1000 [==============================] - 1s 1ms/step - loss: -2926884.9500 - acc: 2.2297e-06 - val_loss: -2922280.0000 - val_acc: 0.0000e+00\n",
      "Epoch 4/50\n",
      "1000/1000 [==============================] - 1s 1ms/step - loss: -2926885.0375 - acc: 2.2297e-06 - val_loss: -2922280.0000 - val_acc: 0.0000e+00\n",
      "Epoch 5/50\n",
      "1000/1000 [==============================] - 1s 1ms/step - loss: -2926885.0125 - acc: 1.1148e-06 - val_loss: -2922280.0000 - val_acc: 0.0000e+00\n",
      "Epoch 6/50\n",
      "1000/1000 [==============================] - 1s 1ms/step - loss: -2926885.0125 - acc: 2.2297e-06 - val_loss: -2922280.0000 - val_acc: 0.0000e+00\n",
      "Epoch 7/50\n",
      "1000/1000 [==============================] - 1s 1ms/step - loss: -2926885.0250 - acc: 1.1148e-06 - val_loss: -2922280.0000 - val_acc: 0.0000e+00\n",
      "Epoch 8/50\n",
      "1000/1000 [==============================] - 1s 1ms/step - loss: -2926885.0125 - acc: 4.4593e-06 - val_loss: -2922280.0000 - val_acc: 7.9631e-05\n",
      "Epoch 9/50\n",
      "1000/1000 [==============================] - 1s 1ms/step - loss: -2926885.0750 - acc: 1.1148e-06 - val_loss: -2922280.0000 - val_acc: 7.9631e-05\n",
      "Epoch 10/50\n",
      "1000/1000 [==============================] - 1s 1ms/step - loss: -2926885.0000 - acc: 2.2297e-06 - val_loss: -2922280.0000 - val_acc: 7.9631e-05\n",
      "Epoch 11/50\n",
      "1000/1000 [==============================] - 1s 1ms/step - loss: -2926885.0500 - acc: 0.0000e+00 - val_loss: -2922280.0000 - val_acc: 7.9631e-05\n",
      "Epoch 12/50\n",
      "1000/1000 [==============================] - 1s 1ms/step - loss: -2926885.0000 - acc: 0.0000e+00 - val_loss: -2922280.0000 - val_acc: 7.9631e-05\n",
      "Epoch 13/50\n",
      "1000/1000 [==============================] - 1s 1ms/step - loss: -2926885.0000 - acc: 1.1148e-06 - val_loss: -2922280.0000 - val_acc: 7.9631e-05\n",
      "Epoch 14/50\n",
      "1000/1000 [==============================] - 1s 1ms/step - loss: -2926885.0125 - acc: 0.0000e+00 - val_loss: -2922280.0000 - val_acc: 7.9631e-05\n",
      "Epoch 15/50\n",
      "1000/1000 [==============================] - 1s 1ms/step - loss: -2926884.9625 - acc: 5.5741e-06 - val_loss: -2922280.0000 - val_acc: 7.9631e-05\n",
      "Epoch 16/50\n",
      "1000/1000 [==============================] - 1s 1ms/step - loss: -2926884.9875 - acc: 0.0000e+00 - val_loss: -2922280.0000 - val_acc: 7.9631e-05\n",
      "Epoch 17/50\n",
      "1000/1000 [==============================] - 1s 1ms/step - loss: -2926885.0500 - acc: 0.0000e+00 - val_loss: -2922280.0000 - val_acc: 7.9631e-05\n",
      "Epoch 18/50\n",
      "1000/1000 [==============================] - 1s 1ms/step - loss: -2926885.0250 - acc: 1.1148e-06 - val_loss: -2922280.0000 - val_acc: 7.9631e-05\n",
      "Epoch 19/50\n",
      "1000/1000 [==============================] - 1s 1ms/step - loss: -2926884.9875 - acc: 2.2297e-06 - val_loss: -2922280.0000 - val_acc: 7.9631e-05\n",
      "Epoch 20/50\n",
      "1000/1000 [==============================] - 1s 1ms/step - loss: -2926885.0250 - acc: 2.2297e-06 - val_loss: -2922280.0000 - val_acc: 7.9631e-05\n",
      "Epoch 21/50\n",
      "1000/1000 [==============================] - 1s 1ms/step - loss: -2926885.0625 - acc: 1.1148e-06 - val_loss: -2922280.0000 - val_acc: 7.9631e-05\n",
      "Epoch 22/50\n",
      "1000/1000 [==============================] - 1s 1ms/step - loss: -2926885.0125 - acc: 1.1148e-06 - val_loss: -2922280.0000 - val_acc: 7.9631e-05\n",
      "Epoch 23/50\n",
      "1000/1000 [==============================] - 1s 1ms/step - loss: -2926885.0625 - acc: 1.1148e-06 - val_loss: -2922280.0000 - val_acc: 7.9631e-05\n",
      "Epoch 24/50\n",
      "1000/1000 [==============================] - 1s 1ms/step - loss: -2926885.0125 - acc: 1.1148e-06 - val_loss: -2922280.0000 - val_acc: 7.9631e-05\n",
      "Epoch 25/50\n",
      "1000/1000 [==============================] - 1s 1ms/step - loss: -2926885.0375 - acc: 1.1148e-06 - val_loss: -2922280.0000 - val_acc: 7.9631e-05\n",
      "Epoch 26/50\n",
      "1000/1000 [==============================] - 1s 1ms/step - loss: -2926885.0250 - acc: 0.0000e+00 - val_loss: -2922280.0000 - val_acc: 7.9631e-05\n",
      "Epoch 27/50\n",
      "1000/1000 [==============================] - 1s 1ms/step - loss: -2926885.0375 - acc: 1.1148e-06 - val_loss: -2922280.0000 - val_acc: 7.9631e-05\n",
      "Epoch 28/50\n",
      "1000/1000 [==============================] - 1s 1ms/step - loss: -2926884.9625 - acc: 2.2297e-06 - val_loss: -2922280.0000 - val_acc: 7.9631e-05\n",
      "Epoch 29/50\n",
      "1000/1000 [==============================] - 1s 1ms/step - loss: -2926884.9875 - acc: 2.2297e-06 - val_loss: -2922280.0000 - val_acc: 7.9631e-05\n",
      "Epoch 30/50\n",
      "1000/1000 [==============================] - 1s 1ms/step - loss: -2926884.9750 - acc: 3.3445e-06 - val_loss: -2922280.0000 - val_acc: 7.9631e-05\n",
      "Epoch 31/50\n",
      "1000/1000 [==============================] - 1s 1ms/step - loss: -2926885.0000 - acc: 0.0000e+00 - val_loss: -2922280.0000 - val_acc: 7.9631e-05\n",
      "Epoch 32/50\n",
      "1000/1000 [==============================] - 1s 1ms/step - loss: -2926885.0875 - acc: 2.2297e-06 - val_loss: -2922280.0000 - val_acc: 7.9631e-05\n",
      "Epoch 33/50\n",
      "1000/1000 [==============================] - 1s 1ms/step - loss: -2926885.0625 - acc: 1.1148e-06 - val_loss: -2922280.0000 - val_acc: 7.9631e-05\n",
      "Epoch 34/50\n",
      "1000/1000 [==============================] - 1s 1ms/step - loss: -2926885.0000 - acc: 1.1148e-06 - val_loss: -2922280.0000 - val_acc: 7.9631e-05\n",
      "Epoch 35/50\n",
      "1000/1000 [==============================] - 1s 1ms/step - loss: -2926885.0250 - acc: 1.1148e-06 - val_loss: -2922280.0000 - val_acc: 7.9631e-05\n",
      "Epoch 36/50\n",
      "1000/1000 [==============================] - 1s 1ms/step - loss: -2926885.0125 - acc: 2.2297e-06 - val_loss: -2922280.0000 - val_acc: 7.9631e-05\n",
      "Epoch 37/50\n",
      "1000/1000 [==============================] - 1s 1ms/step - loss: -2926885.0125 - acc: 5.5741e-06 - val_loss: -2922280.0000 - val_acc: 7.9631e-05\n",
      "Epoch 38/50\n",
      "1000/1000 [==============================] - 1s 1ms/step - loss: -2926884.9750 - acc: 0.0000e+00 - val_loss: -2922280.0000 - val_acc: 7.9631e-05\n",
      "Epoch 39/50\n",
      "1000/1000 [==============================] - 1s 1ms/step - loss: -2926885.0125 - acc: 0.0000e+00 - val_loss: -2922280.0000 - val_acc: 7.9631e-05\n",
      "Epoch 40/50\n",
      "1000/1000 [==============================] - 1s 1ms/step - loss: -2926884.9750 - acc: 1.1148e-06 - val_loss: -2922280.0000 - val_acc: 7.9631e-05\n",
      "Epoch 41/50\n",
      "1000/1000 [==============================] - 1s 1ms/step - loss: -2926884.9625 - acc: 3.3445e-06 - val_loss: -2922280.0000 - val_acc: 7.9631e-05\n",
      "Epoch 42/50\n",
      "1000/1000 [==============================] - 1s 1ms/step - loss: -2926885.0000 - acc: 2.2297e-06 - val_loss: -2922280.0000 - val_acc: 7.9631e-05\n",
      "Epoch 43/50\n",
      "1000/1000 [==============================] - 1s 1ms/step - loss: -2926885.0250 - acc: 3.3445e-06 - val_loss: -2922280.0000 - val_acc: 7.9631e-05\n",
      "Epoch 44/50\n",
      "1000/1000 [==============================] - 1s 1ms/step - loss: -2926884.9500 - acc: 2.2297e-06 - val_loss: -2922280.0000 - val_acc: 7.9631e-05\n",
      "Epoch 45/50\n",
      "1000/1000 [==============================] - 1s 1ms/step - loss: -2926885.0125 - acc: 2.2297e-06 - val_loss: -2922280.0000 - val_acc: 7.9631e-05\n",
      "Epoch 46/50\n",
      "1000/1000 [==============================] - 1s 1ms/step - loss: -2926885.0250 - acc: 1.1148e-06 - val_loss: -2922280.0000 - val_acc: 7.9631e-05\n",
      "Epoch 47/50\n",
      "1000/1000 [==============================] - 1s 1ms/step - loss: -2926885.0125 - acc: 1.1148e-06 - val_loss: -2922280.0000 - val_acc: 7.9631e-05\n",
      "Epoch 48/50\n",
      "1000/1000 [==============================] - 1s 1ms/step - loss: -2926885.0000 - acc: 0.0000e+00 - val_loss: -2922280.0000 - val_acc: 7.9631e-05\n",
      "Epoch 49/50\n",
      "1000/1000 [==============================] - 1s 1ms/step - loss: -2926885.0125 - acc: 2.2297e-06 - val_loss: -2922280.0000 - val_acc: 7.9631e-05\n",
      "Epoch 50/50\n",
      "1000/1000 [==============================] - 1s 1ms/step - loss: -2926885.0250 - acc: 2.2297e-06 - val_loss: -2922280.0000 - val_acc: 7.9631e-05\n"
     ]
    },
    {
     "data": {
      "text/plain": [
       "<keras.callbacks.History at 0x2469e416518>"
      ]
     },
     "execution_count": 10,
     "metadata": {},
     "output_type": "execute_result"
    }
   ],
   "source": [
    "model.fit(x_train, x_train, \n",
    "          nb_epoch=50,\n",
    "          batch_size=50,\n",
    "          shuffle=True,\n",
    "          validation_data=(x_test, x_test))"
   ]
  },
  {
   "cell_type": "code",
   "execution_count": 21,
   "metadata": {},
   "outputs": [],
   "source": [
    "\n"
   ]
  },
  {
   "cell_type": "code",
   "execution_count": null,
   "metadata": {},
   "outputs": [],
   "source": []
  }
 ],
 "metadata": {
  "kernelspec": {
   "display_name": "Python 3",
   "language": "python",
   "name": "python3"
  },
  "language_info": {
   "codemirror_mode": {
    "name": "ipython",
    "version": 3
   },
   "file_extension": ".py",
   "mimetype": "text/x-python",
   "name": "python",
   "nbconvert_exporter": "python",
   "pygments_lexer": "ipython3",
   "version": "3.5.5"
  }
 },
 "nbformat": 4,
 "nbformat_minor": 2
}
