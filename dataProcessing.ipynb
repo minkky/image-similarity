{
 "cells": [
  {
   "cell_type": "code",
   "execution_count": 1,
   "metadata": {},
   "outputs": [
    {
     "name": "stderr",
     "output_type": "stream",
     "text": [
      "Using TensorFlow backend.\n"
     ]
    }
   ],
   "source": [
    "import tensorflow as tf\n",
    "import numpy as np\n",
    "import keras\n",
    "import os\n",
    "from PIL import Image\n",
    "import re"
   ]
  },
  {
   "cell_type": "code",
   "execution_count": 2,
   "metadata": {},
   "outputs": [],
   "source": [
    "class ImageLoad:\n",
    "    label = [\"circle\", \"square\", \"triangle\", \"horizontal\", \"vertical\", \"diagonal\"]\n",
    "    tr_path = 'trains/'\n",
    "    te_path = 'tests/'\n",
    "        \n",
    "    def loadData(self):\n",
    "        (tr_sets, tr_labels) = self.getDatasetsAndLabels(self.tr_path)\n",
    "        (te_sets, te_labels) = self.getDatasetsAndLabels(self.te_path)\n",
    "        return tr_sets, tr_labels, te_sets, te_labels\n",
    "    \n",
    "    def getDatasetsAndLabels(self, path):\n",
    "        files = os.listdir(path)\n",
    "        labels = []\n",
    "        datasets = []\n",
    "        for file in files:\n",
    "            datasets.append(self.loadPicture(path + file))            \n",
    "            labels.append(self.loadLabel(file))    \n",
    "        return np.array(datasets), np.array(labels)\n",
    "    \n",
    "    def loadPicture(self, file):\n",
    "        picture = Image.open(file)\n",
    "        return np.array(picture)\n",
    "    \n",
    "    def loadLabel(self, file):\n",
    "        lb = file.replace(re.findall(\"\\d+\", file)[0], '').replace('.png','')\n",
    "        return self.label.index(lb)\n"
   ]
  },
  {
   "cell_type": "code",
   "execution_count": 3,
   "metadata": {},
   "outputs": [],
   "source": [
    "imgLoad = ImageLoad()\n",
    "(x_train, y_train, x_test, y_test) = imgLoad.loadData()"
   ]
  },
  {
   "cell_type": "code",
   "execution_count": 4,
   "metadata": {},
   "outputs": [],
   "source": [
    "num_classes = len(imgLoad.label)\n",
    "(img_rows, img_cols) = (28, 28)\n",
    "input_shape = (img_rows, img_cols, 1)"
   ]
  },
  {
   "cell_type": "code",
   "execution_count": 5,
   "metadata": {},
   "outputs": [],
   "source": [
    "x_train = x_train.reshape(x_train.shape[0], img_rows, img_cols, 1)\n",
    "x_test = x_test.reshape(x_test.shape[0], img_rows, img_cols, 1)"
   ]
  },
  {
   "cell_type": "code",
   "execution_count": 6,
   "metadata": {},
   "outputs": [],
   "source": [
    "x_train = x_train.astype('float32')\n",
    "x_test = x_test.astype('float32')"
   ]
  },
  {
   "cell_type": "code",
   "execution_count": 7,
   "metadata": {},
   "outputs": [],
   "source": [
    "x_train /= 255.\n",
    "x_test /= 255."
   ]
  },
  {
   "cell_type": "code",
   "execution_count": 8,
   "metadata": {},
   "outputs": [],
   "source": [
    "y_train = keras.utils.to_categorical(y_train, len(imgLoad.label))\n",
    "y_test = keras.utils.to_categorical(y_test, len(imgLoad.label))"
   ]
  },
  {
   "cell_type": "code",
   "execution_count": null,
   "metadata": {},
   "outputs": [],
   "source": []
  }
 ],
 "metadata": {
  "kernelspec": {
   "display_name": "Python 3",
   "language": "python",
   "name": "python3"
  },
  "language_info": {
   "codemirror_mode": {
    "name": "ipython",
    "version": 3
   },
   "file_extension": ".py",
   "mimetype": "text/x-python",
   "name": "python",
   "nbconvert_exporter": "python",
   "pygments_lexer": "ipython3",
   "version": "3.6.8"
  }
 },
 "nbformat": 4,
 "nbformat_minor": 2
}
