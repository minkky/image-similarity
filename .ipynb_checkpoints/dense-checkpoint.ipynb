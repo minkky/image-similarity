{
 "cells": [
  {
   "cell_type": "code",
   "execution_count": 1,
   "metadata": {},
   "outputs": [
    {
     "name": "stderr",
     "output_type": "stream",
     "text": [
      "Using TensorFlow backend.\n"
     ]
    }
   ],
   "source": [
    "from keras.layers import Dense, Convolution2D, MaxPooling2D, Input, Activation, Dropout\n",
    "from keras.optimizers import SGD, Adam\n",
    "from keras.models import Sequential\n",
    "from keras.layers.recurrent import LSTM\n",
    "import numpy as np\n",
    "import matplotlib.pyplot as plt\n",
    "from mpl_toolkits.mplot3d import Axes3D\n",
    "import os\n",
    "from sklearn.preprocessing import MinMaxScaler\n"
   ]
  },
  {
   "cell_type": "code",
   "execution_count": 2,
   "metadata": {},
   "outputs": [
    {
     "name": "stdout",
     "output_type": "stream",
     "text": [
      "(1000, 299, 3)\n"
     ]
    }
   ],
   "source": [
    "path = './test300/'\n",
    "\n",
    "def load_data():\n",
    "\tdataset = []\n",
    "\tfilenames = os.listdir(path)\n",
    "\tindex = 0\n",
    "\tfor file in filenames:\n",
    "\t\tdata = np.loadtxt(path+file, dtype='float32')\n",
    "\t\tdataset.append(data)\n",
    "\t\tindex = index + 1\n",
    "\tprint(np.array(dataset).shape)\n",
    "\treturn dataset\n",
    "\n",
    "x_train = load_data()\n",
    "x_train = np.array(x_train)\n",
    "\n",
    "x_test = x_train[1:15][:][:]\n",
    "x_test = np.array(x_test)\n"
   ]
  },
  {
   "cell_type": "code",
   "execution_count": 3,
   "metadata": {},
   "outputs": [],
   "source": [
    "model = Sequential()"
   ]
  },
  {
   "cell_type": "code",
   "execution_count": 4,
   "metadata": {},
   "outputs": [
    {
     "name": "stderr",
     "output_type": "stream",
     "text": [
      "C:\\Users\\minji\\Anaconda3\\envs\\test\\lib\\site-packages\\ipykernel_launcher.py:1: UserWarning: Update your `Dense` call to the Keras 2 API: `Dense(256, activation=\"relu\", input_shape=(299, 3), kernel_initializer=\"glorot_uniform\")`\n",
      "  \"\"\"Entry point for launching an IPython kernel.\n"
     ]
    }
   ],
   "source": [
    "model.add(Dense(256, input_shape=(299, 3), init='glorot_uniform', activation = 'relu'))\n",
    "model.add(Dropout(0.3))\n"
   ]
  },
  {
   "cell_type": "code",
   "execution_count": 5,
   "metadata": {},
   "outputs": [
    {
     "name": "stderr",
     "output_type": "stream",
     "text": [
      "C:\\Users\\minji\\Anaconda3\\envs\\test\\lib\\site-packages\\ipykernel_launcher.py:3: UserWarning: Update your `Dense` call to the Keras 2 API: `Dense(256, activation=\"relu\", kernel_initializer=\"glorot_uniform\")`\n",
      "  This is separate from the ipykernel package so we can avoid doing imports until\n",
      "C:\\Users\\minji\\Anaconda3\\envs\\test\\lib\\site-packages\\ipykernel_launcher.py:5: UserWarning: Update your `Dense` call to the Keras 2 API: `Dense(256, activation=\"relu\", kernel_initializer=\"glorot_uniform\")`\n",
      "  \"\"\"\n",
      "C:\\Users\\minji\\Anaconda3\\envs\\test\\lib\\site-packages\\ipykernel_launcher.py:7: UserWarning: Update your `Dense` call to the Keras 2 API: `Dense(64, activation=\"relu\", kernel_initializer=\"glorot_uniform\")`\n",
      "  import sys\n",
      "C:\\Users\\minji\\Anaconda3\\envs\\test\\lib\\site-packages\\ipykernel_launcher.py:9: UserWarning: Update your `Dense` call to the Keras 2 API: `Dense(3, activation=\"relu\", kernel_initializer=\"glorot_uniform\")`\n",
      "  if __name__ == '__main__':\n"
     ]
    }
   ],
   "source": [
    "model.add(Dense(256, activation = 'relu'))\n",
    "model.add(Dropout(0.3))\n",
    "model.add(Dense(256, init='glorot_uniform', activation = 'relu'))\n",
    "model.add(Dropout(0.3))\n",
    "model.add(Dense(256, init='glorot_uniform', activation = 'relu'))\n",
    "model.add(Dropout(0.3))\n",
    "model.add(Dense(64, init='glorot_uniform', activation = 'relu'))\n",
    "model.add(Dropout(0.3))\n",
    "model.add(Dense(3, init='glorot_uniform', activation = 'relu'))"
   ]
  },
  {
   "cell_type": "code",
   "execution_count": 6,
   "metadata": {},
   "outputs": [],
   "source": [
    "model.compile(loss='binary_crossentropy', optimizer='adam', metrics=['accuracy'])"
   ]
  },
  {
   "cell_type": "code",
   "execution_count": null,
   "metadata": {},
   "outputs": [
    {
     "name": "stderr",
     "output_type": "stream",
     "text": [
      "C:\\Users\\minji\\Anaconda3\\envs\\test\\lib\\site-packages\\ipykernel_launcher.py:5: UserWarning: The `nb_epoch` argument in `fit` has been renamed `epochs`.\n",
      "  \"\"\"\n"
     ]
    },
    {
     "name": "stdout",
     "output_type": "stream",
     "text": [
      "Train on 1000 samples, validate on 14 samples\n",
      "Epoch 1/50\n",
      "1000/1000 [==============================] - 3s 3ms/step - loss: -1895576.7039 - acc: 4.4593e-06 - val_loss: -2922280.0000 - val_acc: 0.0000e+00\n",
      "Epoch 2/50\n",
      "1000/1000 [==============================] - 1s 792us/step - loss: -2789352.9625 - acc: 3.3445e-06 - val_loss: -2922280.0000 - val_acc: 0.0000e+00\n",
      "Epoch 3/50\n",
      "1000/1000 [==============================] - 1s 791us/step - loss: -2905683.6375 - acc: 3.3445e-06 - val_loss: -2922280.0000 - val_acc: 0.0000e+00\n",
      "Epoch 4/50\n",
      "1000/1000 [==============================] - 1s 791us/step - loss: -2906719.1000 - acc: 2.2297e-06 - val_loss: -2922280.0000 - val_acc: 0.0000e+00\n",
      "Epoch 5/50\n",
      "1000/1000 [==============================] - 1s 789us/step - loss: -2907661.9500 - acc: 0.0000e+00 - val_loss: -2922280.0000 - val_acc: 0.0000e+00\n",
      "Epoch 6/50\n",
      "1000/1000 [==============================] - 1s 790us/step - loss: -2906807.1500 - acc: 1.1148e-06 - val_loss: -2922280.0000 - val_acc: 0.0000e+00\n",
      "Epoch 7/50\n",
      "1000/1000 [==============================] - 1s 790us/step - loss: -2906433.9500 - acc: 0.0000e+00 - val_loss: -2922280.0000 - val_acc: 0.0000e+00\n",
      "Epoch 8/50\n",
      "1000/1000 [==============================] - 1s 790us/step - loss: -2880234.1875 - acc: 1.1148e-06 - val_loss: -2922280.0000 - val_acc: 0.0000e+00\n",
      "Epoch 9/50\n",
      "1000/1000 [==============================] - 1s 791us/step - loss: -2868090.4250 - acc: 3.3445e-06 - val_loss: -2922280.0000 - val_acc: 0.0000e+00\n",
      "Epoch 10/50\n",
      "1000/1000 [==============================] - 1s 789us/step - loss: -2865298.3750 - acc: 3.3445e-06 - val_loss: -2922280.0000 - val_acc: 0.0000e+00\n",
      "Epoch 11/50\n",
      "1000/1000 [==============================] - 1s 803us/step - loss: -2865152.3125 - acc: 1.1148e-06 - val_loss: -2922280.0000 - val_acc: 0.0000e+00\n",
      "Epoch 12/50\n",
      "1000/1000 [==============================] - 1s 794us/step - loss: -2866093.3125 - acc: 1.1148e-06 - val_loss: -2922280.0000 - val_acc: 0.0000e+00\n",
      "Epoch 13/50\n",
      "1000/1000 [==============================] - 1s 790us/step - loss: -2866579.4875 - acc: 3.3445e-06 - val_loss: -2922280.0000 - val_acc: 0.0000e+00\n",
      "Epoch 14/50\n",
      "1000/1000 [==============================] - 1s 790us/step - loss: -2867890.6875 - acc: 1.1148e-06 - val_loss: -2922280.0000 - val_acc: 0.0000e+00\n",
      "Epoch 15/50\n",
      "1000/1000 [==============================] - 1s 792us/step - loss: -2866166.1625 - acc: 0.0000e+00 - val_loss: -2922280.0000 - val_acc: 0.0000e+00\n",
      "Epoch 16/50\n",
      "1000/1000 [==============================] - 1s 801us/step - loss: -2866235.0500 - acc: 2.2297e-06 - val_loss: -2922280.0000 - val_acc: 0.0000e+00\n",
      "Epoch 17/50\n",
      "1000/1000 [==============================] - 1s 798us/step - loss: -2875709.2000 - acc: 1.1148e-06 - val_loss: -2922280.0000 - val_acc: 0.0000e+00\n",
      "Epoch 18/50\n",
      "1000/1000 [==============================] - 1s 793us/step - loss: -2926118.1750 - acc: 2.2297e-06 - val_loss: -2922280.0000 - val_acc: 0.0000e+00\n",
      "Epoch 19/50\n",
      "1000/1000 [==============================] - 1s 791us/step - loss: -2926607.7250 - acc: 0.0000e+00 - val_loss: -2922280.0000 - val_acc: 0.0000e+00\n",
      "Epoch 20/50\n",
      "1000/1000 [==============================] - 1s 791us/step - loss: -2926548.5750 - acc: 1.1148e-06 - val_loss: -2922280.0000 - val_acc: 0.0000e+00\n",
      "Epoch 21/50\n",
      "1000/1000 [==============================] - 1s 806us/step - loss: -2926286.5625 - acc: 1.1148e-06 - val_loss: -2922280.0000 - val_acc: 0.0000e+00\n",
      "Epoch 22/50\n",
      "1000/1000 [==============================] - 1s 791us/step - loss: -2926437.2750 - acc: 1.1148e-06 - val_loss: -2922280.0000 - val_acc: 0.0000e+00\n",
      "Epoch 23/50\n",
      "1000/1000 [==============================] - 1s 797us/step - loss: -2926533.7250 - acc: 2.2297e-06 - val_loss: -2922280.0000 - val_acc: 0.0000e+00\n",
      "Epoch 24/50\n",
      "1000/1000 [==============================] - 1s 791us/step - loss: -2926536.6000 - acc: 1.1148e-06 - val_loss: -2922280.0000 - val_acc: 0.0000e+00\n",
      "Epoch 25/50\n",
      "1000/1000 [==============================] - 1s 808us/step - loss: -2926513.2250 - acc: 0.0000e+00 - val_loss: -2922280.0000 - val_acc: 0.0000e+00\n",
      "Epoch 26/50\n",
      "1000/1000 [==============================] - 1s 801us/step - loss: -2926537.0750 - acc: 1.1148e-06 - val_loss: -2922280.0000 - val_acc: 0.0000e+00\n",
      "Epoch 27/50\n",
      "1000/1000 [==============================] - 1s 791us/step - loss: -2926484.6500 - acc: 1.1148e-06 - val_loss: -2922280.0000 - val_acc: 0.0000e+00\n",
      "Epoch 28/50\n",
      "1000/1000 [==============================] - 1s 789us/step - loss: -2926537.4000 - acc: 4.4593e-06 - val_loss: -2922280.0000 - val_acc: 0.0000e+00\n",
      "Epoch 29/50\n",
      "1000/1000 [==============================] - 1s 793us/step - loss: -2926460.3875 - acc: 0.0000e+00 - val_loss: -2922280.0000 - val_acc: 0.0000e+00\n",
      "Epoch 30/50\n",
      "1000/1000 [==============================] - 1s 793us/step - loss: -2926464.4250 - acc: 1.1148e-06 - val_loss: -2922280.0000 - val_acc: 0.0000e+00\n",
      "Epoch 31/50\n",
      "1000/1000 [==============================] - 1s 798us/step - loss: -2926560.7875 - acc: 1.1148e-06 - val_loss: -2922280.0000 - val_acc: 0.0000e+00\n",
      "Epoch 32/50\n",
      "1000/1000 [==============================] - 1s 794us/step - loss: -2926411.9750 - acc: 0.0000e+00 - val_loss: -2922280.0000 - val_acc: 0.0000e+00\n",
      "Epoch 33/50\n",
      "1000/1000 [==============================] - 1s 800us/step - loss: -2926601.4250 - acc: 2.2297e-06 - val_loss: -2922280.0000 - val_acc: 0.0000e+00\n",
      "Epoch 34/50\n",
      "1000/1000 [==============================] - 1s 799us/step - loss: -2926455.1875 - acc: 2.2297e-06 - val_loss: -2922280.0000 - val_acc: 0.0000e+00\n",
      "Epoch 35/50\n",
      "1000/1000 [==============================] - 1s 791us/step - loss: -2926555.0750 - acc: 1.1148e-06 - val_loss: -2922280.0000 - val_acc: 0.0000e+00\n",
      "Epoch 36/50\n",
      "1000/1000 [==============================] - 1s 791us/step - loss: -2926622.9125 - acc: 3.3445e-06 - val_loss: -2922280.0000 - val_acc: 0.0000e+00\n",
      "Epoch 37/50\n",
      "1000/1000 [==============================] - 1s 788us/step - loss: -2926282.8000 - acc: 3.3445e-06 - val_loss: -2922280.0000 - val_acc: 0.0000e+00\n",
      "Epoch 38/50\n",
      "1000/1000 [==============================] - 1s 790us/step - loss: -2922680.5625 - acc: 1.1148e-06 - val_loss: -2922280.0000 - val_acc: 0.0000e+00\n",
      "Epoch 39/50\n",
      "1000/1000 [==============================] - 1s 789us/step - loss: -2920418.1750 - acc: 0.0000e+00 - val_loss: -2922280.0000 - val_acc: 0.0000e+00\n",
      "Epoch 40/50\n",
      "1000/1000 [==============================] - 1s 792us/step - loss: -2919881.6000 - acc: 1.1148e-06 - val_loss: -2922280.0000 - val_acc: 0.0000e+00\n",
      "Epoch 41/50\n",
      "1000/1000 [==============================] - 1s 792us/step - loss: -2920154.0375 - acc: 0.0000e+00 - val_loss: -2922280.0000 - val_acc: 0.0000e+00\n",
      "Epoch 42/50\n",
      "1000/1000 [==============================] - 1s 793us/step - loss: -2919689.5875 - acc: 0.0000e+00 - val_loss: -2922280.0000 - val_acc: 0.0000e+00\n",
      "Epoch 43/50\n",
      "1000/1000 [==============================] - 1s 790us/step - loss: -2919296.5500 - acc: 0.0000e+00 - val_loss: -2922280.0000 - val_acc: 0.0000e+00\n",
      "Epoch 44/50\n",
      "1000/1000 [==============================] - 1s 789us/step - loss: -2920135.1250 - acc: 0.0000e+00 - val_loss: -2922280.0000 - val_acc: 0.0000e+00\n",
      "Epoch 45/50\n",
      "1000/1000 [==============================] - 1s 787us/step - loss: -2919907.6125 - acc: 0.0000e+00 - val_loss: -2922280.0000 - val_acc: 0.0000e+00\n",
      "Epoch 46/50\n",
      "1000/1000 [==============================] - 1s 790us/step - loss: -2920278.4000 - acc: 1.1148e-06 - val_loss: -2922280.0000 - val_acc: 0.0000e+00\n",
      "Epoch 47/50\n",
      " 750/1000 [=====================>........] - ETA: 0s - loss: -2922355.3167 - acc: 0.0000e+00"
     ]
    }
   ],
   "source": [
    "model.fit(x_train, x_train, \n",
    "          nb_epoch=50,\n",
    "          batch_size=50,\n",
    "          shuffle=True,\n",
    "          validation_data=(x_test, x_test))"
   ]
  },
  {
   "cell_type": "code",
   "execution_count": 21,
   "metadata": {},
   "outputs": [],
   "source": [
    "\n"
   ]
  },
  {
   "cell_type": "code",
   "execution_count": null,
   "metadata": {},
   "outputs": [],
   "source": []
  }
 ],
 "metadata": {
  "kernelspec": {
   "display_name": "Python 3",
   "language": "python",
   "name": "python3"
  },
  "language_info": {
   "codemirror_mode": {
    "name": "ipython",
    "version": 3
   },
   "file_extension": ".py",
   "mimetype": "text/x-python",
   "name": "python",
   "nbconvert_exporter": "python",
   "pygments_lexer": "ipython3",
   "version": "3.5.5"
  }
 },
 "nbformat": 4,
 "nbformat_minor": 2
}
