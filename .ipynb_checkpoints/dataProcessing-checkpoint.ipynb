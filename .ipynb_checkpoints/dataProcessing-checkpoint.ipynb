{
 "cells": [
  {
   "cell_type": "code",
   "execution_count": 32,
   "metadata": {},
   "outputs": [
    {
     "name": "stderr",
     "output_type": "stream",
     "text": [
      "Using TensorFlow backend.\n"
     ]
    }
   ],
   "source": [
    "import tensorflow as tf\n",
    "import numpy as np\n",
    "import keras\n",
    "import os\n",
    "from PIL import Image\n",
    "import re"
   ]
  },
  {
   "cell_type": "code",
   "execution_count": 33,
   "metadata": {},
   "outputs": [],
   "source": [
    "class ImageLoad:\n",
    "    label = [\"circle\", \"square\", \"triangle\", \"horizontal\", \"vertical\", \"diagonal\"]\n",
    "    tr_path = 'trains/'\n",
    "    te_path = 'tests/'\n",
    "        \n",
    "    def loadData(self):\n",
    "        (tr_sets, tr_labels) = self.getDatasetsAndLabels(self.tr_path)\n",
    "        (te_sets, te_labels) = self.getDatasetsAndLabels(self.te_path)\n",
    "        return tr_sets, tr_labels, te_sets, te_labels\n",
    "    \n",
    "    def getDatasetsAndLabels(self, path):\n",
    "        files = os.listdir(path)\n",
    "        labels = []\n",
    "        datasets = []\n",
    "        for file in files:\n",
    "            datasets.append(self.loadPicture(path + file))            \n",
    "            labels.append(self.loadLabel(file))    \n",
    "        return np.array(datasets), np.array(labels)\n",
    "    \n",
    "    def loadPicture(self, file):\n",
    "        picture = Image.open(file)\n",
    "        return np.array(picture)\n",
    "    \n",
    "    def loadLabel(self, file):\n",
    "        lb = file.replace(re.findall(\"\\d+\", file)[0], '').replace('.png','')\n",
    "        return self.label.index(lb)\n"
   ]
  },
  {
   "cell_type": "code",
   "execution_count": 48,
   "metadata": {},
   "outputs": [],
   "source": [
    "imgLoad = ImageLoad()\n",
    "(x_train, y_train, x_test, y_test) = imgLoad.loadData()\n",
    "num_classes = len(imgLoad.label)"
   ]
  },
  {
   "cell_type": "code",
   "execution_count": 50,
   "metadata": {},
   "outputs": [],
   "source": [
    "y_train = keras.utils.to_categorical(y_train, len(imgLoad.label))\n",
    "y_test = keras.utils.to_categorical(y_test, len(imgLoad.label))"
   ]
  },
  {
   "cell_type": "code",
   "execution_count": null,
   "metadata": {},
   "outputs": [],
   "source": []
  }
 ],
 "metadata": {
  "kernelspec": {
   "display_name": "Python 3",
   "language": "python",
   "name": "python3"
  },
  "language_info": {
   "codemirror_mode": {
    "name": "ipython",
    "version": 3
   },
   "file_extension": ".py",
   "mimetype": "text/x-python",
   "name": "python",
   "nbconvert_exporter": "python",
   "pygments_lexer": "ipython3",
   "version": "3.6.8"
  }
 },
 "nbformat": 4,
 "nbformat_minor": 2
}
