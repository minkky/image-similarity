{
 "cells": [
  {
   "cell_type": "code",
   "execution_count": 1,
   "metadata": {},
   "outputs": [],
   "source": [
    "import h5py"
   ]
  },
  {
   "cell_type": "code",
   "execution_count": 4,
   "metadata": {},
   "outputs": [],
   "source": [
    "f = h5py.File('encoder.h5', 'r')\n",
    "key = list(f.keys())\n"
   ]
  },
  {
   "cell_type": "code",
   "execution_count": 5,
   "metadata": {},
   "outputs": [
    {
     "data": {
      "text/plain": [
       "['activation_1',\n",
       " 'activation_2',\n",
       " 'activation_3',\n",
       " 'activation_4',\n",
       " 'activation_5',\n",
       " 'activation_6',\n",
       " 'activation_7',\n",
       " 'activation_8',\n",
       " 'activation_9',\n",
       " 'conv2d_1',\n",
       " 'conv2d_2',\n",
       " 'conv2d_3',\n",
       " 'conv2d_4',\n",
       " 'conv2d_5',\n",
       " 'conv2d_6',\n",
       " 'conv2d_7',\n",
       " 'conv2d_8',\n",
       " 'conv2d_9',\n",
       " 'dropout_1',\n",
       " 'dropout_2',\n",
       " 'dropout_3',\n",
       " 'max_pooling2d_1',\n",
       " 'max_pooling2d_2',\n",
       " 'max_pooling2d_3',\n",
       " 'max_pooling2d_4',\n",
       " 'up_sampling2d_1',\n",
       " 'up_sampling2d_2',\n",
       " 'up_sampling2d_3',\n",
       " 'up_sampling2d_4']"
      ]
     },
     "execution_count": 5,
     "metadata": {},
     "output_type": "execute_result"
    }
   ],
   "source": []
  },
  {
   "cell_type": "code",
   "execution_count": 7,
   "metadata": {},
   "outputs": [],
   "source": []
  },
  {
   "cell_type": "code",
   "execution_count": 14,
   "metadata": {},
   "outputs": [],
   "source": []
  },
  {
   "cell_type": "code",
   "execution_count": 19,
   "metadata": {},
   "outputs": [
    {
     "data": {
      "text/plain": [
       "ItemsViewHDF5(<HDF5 group \"/conv2d_1\" (1 members)>)"
      ]
     },
     "execution_count": 19,
     "metadata": {},
     "output_type": "execute_result"
    }
   ],
   "source": []
  },
  {
   "cell_type": "code",
   "execution_count": null,
   "metadata": {},
   "outputs": [],
   "source": [
    "h5read(\"encoder.h5\", )"
   ]
  }
 ],
 "metadata": {
  "kernelspec": {
   "display_name": "Python 3",
   "language": "python",
   "name": "python3"
  },
  "language_info": {
   "codemirror_mode": {
    "name": "ipython",
    "version": 3
   },
   "file_extension": ".py",
   "mimetype": "text/x-python",
   "name": "python",
   "nbconvert_exporter": "python",
   "pygments_lexer": "ipython3",
   "version": "3.6.8"
  }
 },
 "nbformat": 4,
 "nbformat_minor": 2
}
