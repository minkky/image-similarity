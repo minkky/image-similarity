{
 "cells": [
  {
   "cell_type": "code",
   "execution_count": 1,
   "metadata": {},
   "outputs": [
    {
     "name": "stderr",
     "output_type": "stream",
     "text": [
      "Using TensorFlow backend.\n"
     ]
    }
   ],
   "source": [
    "from __future__ import print_function\n",
    "import keras\n",
    "import random, os\n",
    "from keras.layers import Input, Dense, Conv2D, MaxPooling2D, UpSampling2D, Dropout, Flatten\n",
    "from keras.models import Model, Sequential\n",
    "from keras import backend as K\n",
    "from glob import glob\n",
    "from PIL import Image\n",
    "import numpy as np\n",
    "import re\n",
    "\n",
    "batch_size = 128\n",
    "num_classes = 6\n",
    "epochs = 12"
   ]
  },
  {
   "cell_type": "code",
   "execution_count": 2,
   "metadata": {},
   "outputs": [],
   "source": [
    "img_rows, img_cols = 28, 28\n",
    "label = [\"circle\", \"square\", \"triangle\", \"horizontal\", \"vertical\", \"diagonal\"]"
   ]
  },
  {
   "cell_type": "code",
   "execution_count": 3,
   "metadata": {},
   "outputs": [],
   "source": [
    "def load_data():\n",
    "    path = 'trains/'\n",
    "    dataset = []\n",
    "    filenames = os.listdir(path)\n",
    "    index = 0\n",
    "    labels = []\n",
    "    for file in filenames:\n",
    "        pic = Image.open(path + file)\n",
    "        lb = file.replace(re.findall(\"\\d+\", file)[0], '').replace('.png', '')\n",
    "        labels.append(label.index(lb))\n",
    "        pic = np.array(pic)\n",
    "        dataset.append(pic)\n",
    "    dataset = np.array(dataset)\n",
    "    labels = np.array(labels)\n",
    "    return dataset, labels\n",
    "\n",
    "(x_train, y_train) = load_data()\n",
    "y_train = keras.utils.to_categorical(y_train, num_classes)\n",
    "input_shape = (img_rows, img_cols, 1)"
   ]
  },
  {
   "cell_type": "code",
   "execution_count": 4,
   "metadata": {},
   "outputs": [
    {
     "name": "stdout",
     "output_type": "stream",
     "text": [
      "(900, 28, 28, 1) (900, 6)\n",
      "(28, 28, 1) [[0. 0. 1. 0. 0. 0.]\n",
      " [0. 0. 1. 0. 0. 0.]\n",
      " [0. 0. 0. 1. 0. 0.]\n",
      " ...\n",
      " [0. 0. 0. 0. 1. 0.]\n",
      " [0. 0. 0. 0. 0. 1.]\n",
      " [0. 1. 0. 0. 0. 0.]]\n",
      "x_train shape: (900, 28, 28, 1)\n"
     ]
    }
   ],
   "source": [
    "x_train = x_train.reshape(x_train.shape[0], img_rows, img_cols, 1)\n",
    "x_train = x_train.astype('float32')\n",
    "x_train /= 255\n",
    "\n",
    "print(x_train.shape, y_train.shape)\n",
    "print(input_shape, y_train)\n",
    "print('x_train shape:', x_train.shape)\n",
    "#print(x_train.shape[0], 'train samples')"
   ]
  },
  {
   "cell_type": "code",
   "execution_count": 5,
   "metadata": {},
   "outputs": [],
   "source": [
    "model = Sequential()\n",
    "model.add(Conv2D(32, kernel_size=(3, 3),\n",
    "                 activation='relu',\n",
    "                 input_shape=input_shape))\n",
    "model.add(Conv2D(64, (3, 3), activation='relu'))\n",
    "model.add(MaxPooling2D(pool_size=(2, 2)))\n",
    "model.add(Dropout(0.25))\n",
    "model.add(Flatten())\n",
    "model.add(Dense(128, activation='relu'))\n",
    "model.add(Dropout(0.5))\n",
    "model.add(Dense(num_classes, activation='softmax'))"
   ]
  },
  {
   "cell_type": "code",
   "execution_count": 6,
   "metadata": {},
   "outputs": [],
   "source": [
    "model.compile(loss=keras.losses.categorical_crossentropy,\n",
    "              optimizer=keras.optimizers.Adadelta(),\n",
    "              metrics=['accuracy'])"
   ]
  },
  {
   "cell_type": "code",
   "execution_count": 7,
   "metadata": {},
   "outputs": [
    {
     "name": "stdout",
     "output_type": "stream",
     "text": [
      "(900, 28, 28, 1)\n"
     ]
    }
   ],
   "source": [
    "print(x_train.shape)"
   ]
  },
  {
   "cell_type": "code",
   "execution_count": 8,
   "metadata": {},
   "outputs": [
    {
     "name": "stdout",
     "output_type": "stream",
     "text": [
      "Epoch 1/12\n",
      "900/900 [==============================] - 1s 2ms/step - loss: 1.8215 - acc: 0.1633\n",
      "Epoch 2/12\n",
      "900/900 [==============================] - 0s 42us/step - loss: 1.7788 - acc: 0.1844\n",
      "Epoch 3/12\n",
      "900/900 [==============================] - 0s 41us/step - loss: 1.7625 - acc: 0.2144\n",
      "Epoch 4/12\n",
      "900/900 [==============================] - 0s 45us/step - loss: 1.7068 - acc: 0.2756\n",
      "Epoch 5/12\n",
      "900/900 [==============================] - 0s 47us/step - loss: 1.6667 - acc: 0.2844\n",
      "Epoch 6/12\n",
      "900/900 [==============================] - 0s 46us/step - loss: 2.0455 - acc: 0.3011\n",
      "Epoch 7/12\n",
      "900/900 [==============================] - 0s 45us/step - loss: 1.5662 - acc: 0.3056\n",
      "Epoch 8/12\n",
      "900/900 [==============================] - 0s 47us/step - loss: 1.5044 - acc: 0.3367\n",
      "Epoch 9/12\n",
      "900/900 [==============================] - 0s 45us/step - loss: 1.4630 - acc: 0.3567\n",
      "Epoch 10/12\n",
      "900/900 [==============================] - 0s 48us/step - loss: 1.4559 - acc: 0.3678\n",
      "Epoch 11/12\n",
      "900/900 [==============================] - 0s 45us/step - loss: 1.5118 - acc: 0.3522\n",
      "Epoch 12/12\n",
      "900/900 [==============================] - 0s 45us/step - loss: 1.3778 - acc: 0.4122\n"
     ]
    },
    {
     "data": {
      "text/plain": [
       "<keras.callbacks.History at 0x7f61c21085f8>"
      ]
     },
     "execution_count": 8,
     "metadata": {},
     "output_type": "execute_result"
    }
   ],
   "source": [
    "model.fit(x_train, y_train,\n",
    "          batch_size=batch_size,\n",
    "          epochs=epochs,\n",
    "          verbose=1)"
   ]
  },
  {
   "cell_type": "code",
   "execution_count": null,
   "metadata": {},
   "outputs": [],
   "source": []
  }
 ],
 "metadata": {
  "kernelspec": {
   "display_name": "Python 3",
   "language": "python",
   "name": "python3"
  },
  "language_info": {
   "codemirror_mode": {
    "name": "ipython",
    "version": 3
   },
   "file_extension": ".py",
   "mimetype": "text/x-python",
   "name": "python",
   "nbconvert_exporter": "python",
   "pygments_lexer": "ipython3",
   "version": "3.6.8"
  }
 },
 "nbformat": 4,
 "nbformat_minor": 2
}
