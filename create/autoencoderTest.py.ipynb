{
 "cells": [
  {
   "cell_type": "code",
   "execution_count": 52,
   "metadata": {},
   "outputs": [],
   "source": [
    "from keras.layers import Input, Dense\n",
    "from keras.models import Model\n",
    "\n",
    "encoding_dim = 32\n",
    "\n",
    "input_img = Input(shape=(784,))\n",
    "# \"encoded\" is the encoded representation of the input\n",
    "encoded = Dense(encoding_dim, activation='relu')(input_img)\n",
    "# \"decoded\" is the lossy reconstruction of the input\n",
    "decoded = Dense(784, activation='sigmoid')(encoded)\n",
    "\n",
    "# this model maps an input to its reconstruction\n",
    "autoencoder = Model(input_img, decoded)"
   ]
  },
  {
   "cell_type": "code",
   "execution_count": 3,
   "metadata": {},
   "outputs": [],
   "source": [
    "encoder = Model(input_img, encoded)\n",
    "encoded_input = Input(shape=(encoding_dim,))\n",
    "# retrieve the last layer of the autoencoder model\n",
    "decoder_layer = autoencoder.layers[-1]\n",
    "# create the decoder model\n",
    "decoder = Model(encoded_input, decoder_layer(encoded_input))"
   ]
  },
  {
   "cell_type": "code",
   "execution_count": 5,
   "metadata": {},
   "outputs": [],
   "source": [
    "autoencoder.compile(optimizer='adadelta', loss='binary_crossentropy')\n"
   ]
  },
  {
   "cell_type": "code",
   "execution_count": 46,
   "metadata": {},
   "outputs": [],
   "source": [
    "import random, os\n",
    "from keras.layers import Input, Dense, Convolution2D, MaxPooling2D, UpSampling2D\n",
    "from keras.models import Model\n",
    "from keras import backend as K\n",
    "from glob import glob\n",
    "from PIL import Image\n",
    "import numpy as np\n",
    "\n",
    "path = '../dataset/'\n",
    "\n",
    "def load_data():\n",
    "    train = []\n",
    "    test = []\n",
    "    filenames = os.listdir(path)\n",
    "    index = 0\n",
    "    for file in filenames:\n",
    "        pic = Image.open(path + file)    \n",
    "        pic = np.array(pic)[:, :, 1]\n",
    "        if random.choice([True, False]) == True:\n",
    "            train.append(pic)\n",
    "        else:\n",
    "            test.append(pic)\n",
    "    print(np.array(train).shape, np.array(test).shape)\n",
    "    train = np.array(train)\n",
    "    test = np.array(test)\n",
    "    return train, test"
   ]
  },
  {
   "cell_type": "code",
   "execution_count": 47,
   "metadata": {},
   "outputs": [
    {
     "name": "stdout",
     "output_type": "stream",
     "text": [
      "(30, 28, 28) (34, 28, 28)\n"
     ]
    }
   ],
   "source": [
    "x_train, x_test = load_data()\n"
   ]
  },
  {
   "cell_type": "code",
   "execution_count": 48,
   "metadata": {},
   "outputs": [
    {
     "name": "stdout",
     "output_type": "stream",
     "text": [
      "(30, 784)\n",
      "(34, 784)\n"
     ]
    }
   ],
   "source": [
    "x_train = x_train.astype('float32') / 255.\n",
    "x_test = x_test.astype('float32') / 255.\n",
    "x_train = x_train.reshape((len(x_train), np.prod(x_train.shape[1:])))\n",
    "x_test = x_test.reshape((len(x_test), np.prod(x_test.shape[1:])))\n",
    "print (x_train.shape)\n",
    "print (x_test.shape)\n"
   ]
  },
  {
   "cell_type": "code",
   "execution_count": 49,
   "metadata": {},
   "outputs": [
    {
     "name": "stdout",
     "output_type": "stream",
     "text": [
      "Train on 30 samples, validate on 34 samples\n",
      "Epoch 1/50\n",
      "30/30 [==============================] - 0s 128us/step - loss: 0.3158 - val_loss: 0.2751\n",
      "Epoch 2/50\n",
      "30/30 [==============================] - 0s 69us/step - loss: 0.3054 - val_loss: 0.2718\n",
      "Epoch 3/50\n",
      "30/30 [==============================] - 0s 161us/step - loss: 0.2989 - val_loss: 0.2699\n",
      "Epoch 4/50\n",
      "30/30 [==============================] - 0s 97us/step - loss: 0.2943 - val_loss: 0.2686\n",
      "Epoch 5/50\n",
      "30/30 [==============================] - 0s 81us/step - loss: 0.2908 - val_loss: 0.2676\n",
      "Epoch 6/50\n",
      "30/30 [==============================] - 0s 68us/step - loss: 0.2879 - val_loss: 0.2667\n",
      "Epoch 7/50\n",
      "30/30 [==============================] - 0s 66us/step - loss: 0.2855 - val_loss: 0.2659\n",
      "Epoch 8/50\n",
      "30/30 [==============================] - 0s 67us/step - loss: 0.2832 - val_loss: 0.2651\n",
      "Epoch 9/50\n",
      "30/30 [==============================] - 0s 111us/step - loss: 0.2812 - val_loss: 0.2644\n",
      "Epoch 10/50\n",
      "30/30 [==============================] - 0s 106us/step - loss: 0.2792 - val_loss: 0.2637\n",
      "Epoch 11/50\n",
      "30/30 [==============================] - 0s 85us/step - loss: 0.2774 - val_loss: 0.2630\n",
      "Epoch 12/50\n",
      "30/30 [==============================] - 0s 70us/step - loss: 0.2757 - val_loss: 0.2623\n",
      "Epoch 13/50\n",
      "30/30 [==============================] - 0s 68us/step - loss: 0.2740 - val_loss: 0.2616\n",
      "Epoch 14/50\n",
      "30/30 [==============================] - 0s 63us/step - loss: 0.2724 - val_loss: 0.2609\n",
      "Epoch 15/50\n",
      "30/30 [==============================] - 0s 140us/step - loss: 0.2708 - val_loss: 0.2603\n",
      "Epoch 16/50\n",
      "30/30 [==============================] - 0s 121us/step - loss: 0.2693 - val_loss: 0.2596\n",
      "Epoch 17/50\n",
      "30/30 [==============================] - 0s 69us/step - loss: 0.2679 - val_loss: 0.2590\n",
      "Epoch 18/50\n",
      "30/30 [==============================] - 0s 61us/step - loss: 0.2665 - val_loss: 0.2584\n",
      "Epoch 19/50\n",
      "30/30 [==============================] - 0s 67us/step - loss: 0.2651 - val_loss: 0.2578\n",
      "Epoch 20/50\n",
      "30/30 [==============================] - 0s 118us/step - loss: 0.2638 - val_loss: 0.2572\n",
      "Epoch 21/50\n",
      "30/30 [==============================] - 0s 96us/step - loss: 0.2625 - val_loss: 0.2566\n",
      "Epoch 22/50\n",
      "30/30 [==============================] - 0s 69us/step - loss: 0.2613 - val_loss: 0.2560\n",
      "Epoch 23/50\n",
      "30/30 [==============================] - 0s 61us/step - loss: 0.2601 - val_loss: 0.2555\n",
      "Epoch 24/50\n",
      "30/30 [==============================] - 0s 64us/step - loss: 0.2589 - val_loss: 0.2549\n",
      "Epoch 25/50\n",
      "30/30 [==============================] - 0s 63us/step - loss: 0.2577 - val_loss: 0.2544\n",
      "Epoch 26/50\n",
      "30/30 [==============================] - 0s 60us/step - loss: 0.2566 - val_loss: 0.2539\n",
      "Epoch 27/50\n",
      "30/30 [==============================] - 0s 112us/step - loss: 0.2555 - val_loss: 0.2534\n",
      "Epoch 28/50\n",
      "30/30 [==============================] - 0s 63us/step - loss: 0.2545 - val_loss: 0.2529\n",
      "Epoch 29/50\n",
      "30/30 [==============================] - 0s 60us/step - loss: 0.2534 - val_loss: 0.2524\n",
      "Epoch 30/50\n",
      "30/30 [==============================] - 0s 60us/step - loss: 0.2524 - val_loss: 0.2519\n",
      "Epoch 31/50\n",
      "30/30 [==============================] - 0s 65us/step - loss: 0.2514 - val_loss: 0.2514\n",
      "Epoch 32/50\n",
      "30/30 [==============================] - 0s 60us/step - loss: 0.2504 - val_loss: 0.2510\n",
      "Epoch 33/50\n",
      "30/30 [==============================] - 0s 76us/step - loss: 0.2494 - val_loss: 0.2505\n",
      "Epoch 34/50\n",
      "30/30 [==============================] - 0s 92us/step - loss: 0.2485 - val_loss: 0.2500\n",
      "Epoch 35/50\n",
      "30/30 [==============================] - 0s 83us/step - loss: 0.2476 - val_loss: 0.2496\n",
      "Epoch 36/50\n",
      "30/30 [==============================] - 0s 114us/step - loss: 0.2466 - val_loss: 0.2491\n",
      "Epoch 37/50\n",
      "30/30 [==============================] - 0s 61us/step - loss: 0.2457 - val_loss: 0.2487\n",
      "Epoch 38/50\n",
      "30/30 [==============================] - 0s 67us/step - loss: 0.2448 - val_loss: 0.2483\n",
      "Epoch 39/50\n",
      "30/30 [==============================] - 0s 80us/step - loss: 0.2440 - val_loss: 0.2478\n",
      "Epoch 40/50\n",
      "30/30 [==============================] - 0s 78us/step - loss: 0.2431 - val_loss: 0.2474\n",
      "Epoch 41/50\n",
      "30/30 [==============================] - 0s 66us/step - loss: 0.2422 - val_loss: 0.2470\n",
      "Epoch 42/50\n",
      "30/30 [==============================] - 0s 62us/step - loss: 0.2414 - val_loss: 0.2465\n",
      "Epoch 43/50\n",
      "30/30 [==============================] - 0s 63us/step - loss: 0.2406 - val_loss: 0.2461\n",
      "Epoch 44/50\n",
      "30/30 [==============================] - 0s 66us/step - loss: 0.2397 - val_loss: 0.2457\n",
      "Epoch 45/50\n",
      "30/30 [==============================] - 0s 61us/step - loss: 0.2389 - val_loss: 0.2453\n",
      "Epoch 46/50\n",
      "30/30 [==============================] - 0s 67us/step - loss: 0.2381 - val_loss: 0.2449\n",
      "Epoch 47/50\n",
      "30/30 [==============================] - 0s 65us/step - loss: 0.2373 - val_loss: 0.2445\n",
      "Epoch 48/50\n",
      "30/30 [==============================] - 0s 61us/step - loss: 0.2365 - val_loss: 0.2441\n",
      "Epoch 49/50\n",
      "30/30 [==============================] - 0s 63us/step - loss: 0.2357 - val_loss: 0.2437\n",
      "Epoch 50/50\n",
      "30/30 [==============================] - 0s 61us/step - loss: 0.2350 - val_loss: 0.2433\n"
     ]
    },
    {
     "data": {
      "text/plain": [
       "<keras.callbacks.History at 0x7fa3f8124780>"
      ]
     },
     "execution_count": 49,
     "metadata": {},
     "output_type": "execute_result"
    }
   ],
   "source": [
    "autoencoder.fit(x_train, x_train,\n",
    "                epochs=50,\n",
    "                batch_size=256,\n",
    "                shuffle=True,\n",
    "                validation_data=(x_test, x_test))"
   ]
  },
  {
   "cell_type": "code",
   "execution_count": 50,
   "metadata": {},
   "outputs": [],
   "source": [
    "encoded_imgs = encoder.predict(x_test)\n",
    "decoded_imgs = decoder.predict(encoded_imgs)"
   ]
  },
  {
   "cell_type": "code",
   "execution_count": 51,
   "metadata": {},
   "outputs": [
    {
     "data": {
      "image/png": "[encoded data removed]",
      "text/plain": [
       "<Figure size 1440x288 with 20 Axes>"
      ]
     },
     "metadata": {
      "needs_background": "light"
     },
     "output_type": "display_data"
    }
   ],
   "source": [
    "import matplotlib.pyplot as plt\n",
    "\n",
    "n = 10  # how many digits we will display\n",
    "plt.figure(figsize=(20, 4))\n",
    "for i in range(n):\n",
    "    # display original\n",
    "    ax = plt.subplot(2, n, i + 1)\n",
    "    plt.imshow(x_test[i].reshape(28, 28))\n",
    "    plt.gray()\n",
    "    ax.get_xaxis().set_visible(False)\n",
    "    ax.get_yaxis().set_visible(False)\n",
    "\n",
    "    # display reconstruction\n",
    "    ax = plt.subplot(2, n, i + 1 + n)\n",
    "    plt.imshow(decoded_imgs[i].reshape(28, 28))\n",
    "    plt.gray()\n",
    "    ax.get_xaxis().set_visible(False)\n",
    "    ax.get_yaxis().set_visible(False)\n",
    "plt.show()"
   ]
  },
  {
   "cell_type": "code",
   "execution_count": null,
   "metadata": {},
   "outputs": [],
   "source": []
  }
 ],
 "metadata": {
  "kernelspec": {
   "display_name": "Python 3",
   "language": "python",
   "name": "python3"
  },
  "language_info": {
   "codemirror_mode": {
    "name": "ipython",
    "version": 3
   },
   "file_extension": ".py",
   "mimetype": "text/x-python",
   "name": "python",
   "nbconvert_exporter": "python",
   "pygments_lexer": "ipython3",
   "version": "3.6.8"
  }
 },
 "nbformat": 4,
 "nbformat_minor": 2
}
