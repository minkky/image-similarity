{
 "cells": [
  {
   "cell_type": "code",
   "execution_count": 2,
   "metadata": {},
   "outputs": [],
   "source": [
    "from keras.layers import Input, Dense\n",
    "from keras.models import Model\n",
    "\n",
    "encoding_dim = 32\n",
    "\n",
    "input_img = Input(shape=(784,))\n",
    "# \"encoded\" is the encoded representation of the input\n",
    "encoded = Dense(encoding_dim, activation='relu')(input_img)\n",
    "# \"decoded\" is the lossy reconstruction of the input\n",
    "decoded = Dense(784, activation='sigmoid')(encoded)\n",
    "\n",
    "# this model maps an input to its reconstruction\n",
    "autoencoder = Model(input_img, decoded)"
   ]
  },
  {
   "cell_type": "code",
   "execution_count": 3,
   "metadata": {},
   "outputs": [],
   "source": [
    "encoder = Model(input_img, encoded)\n",
    "encoded_input = Input(shape=(encoding_dim,))\n",
    "# retrieve the last layer of the autoencoder model\n",
    "decoder_layer = autoencoder.layers[-1]\n",
    "# create the decoder model\n",
    "decoder = Model(encoded_input, decoder_layer(encoded_input))"
   ]
  },
  {
   "cell_type": "code",
   "execution_count": 5,
   "metadata": {},
   "outputs": [],
   "source": [
    "autoencoder.compile(optimizer='adadelta', loss='binary_crossentropy')\n"
   ]
  },
  {
   "cell_type": "code",
   "execution_count": 37,
   "metadata": {},
   "outputs": [],
   "source": [
    "import random, os\n",
    "from keras.layers import Input, Dense, Convolution2D, MaxPooling2D, UpSampling2D\n",
    "from keras.models import Model\n",
    "from keras import backend as K\n",
    "from glob import glob\n",
    "from PIL import Image\n",
    "import numpy as np\n",
    "\n",
    "path = '../dataset/'\n",
    "\n",
    "def load_data():\n",
    "    train = []\n",
    "    test = []\n",
    "    filenames = os.listdir(path)\n",
    "    index = 0\n",
    "    for file in filenames:\n",
    "        pic = Image.open(path + file)    \n",
    "        pic = np.array(pic)[:, :, 1]\n",
    "        if random.choice([True, False]) == True:\n",
    "            train.append(pic)\n",
    "        else:\n",
    "            test.append(pic)\n",
    "    print(np.array(train).shape, np.array(test).shape)\n",
    "    train = np.array(train)\n",
    "    test = np.array(test)\n",
    "    return train, test"
   ]
  },
  {
   "cell_type": "code",
   "execution_count": 38,
   "metadata": {},
   "outputs": [
    {
     "name": "stdout",
     "output_type": "stream",
     "text": [
      "(16, 28, 28) (15, 28, 28)\n"
     ]
    }
   ],
   "source": [
    "x_train, x_test = load_data()\n"
   ]
  },
  {
   "cell_type": "code",
   "execution_count": 39,
   "metadata": {},
   "outputs": [
    {
     "name": "stdout",
     "output_type": "stream",
     "text": [
      "(16, 784)\n",
      "(15, 784)\n"
     ]
    }
   ],
   "source": [
    "x_train = x_train.astype('float32') / 255.\n",
    "x_test = x_test.astype('float32') / 255.\n",
    "x_train = x_train.reshape((len(x_train), np.prod(x_train.shape[1:])))\n",
    "x_test = x_test.reshape((len(x_test), np.prod(x_test.shape[1:])))\n",
    "print (x_train.shape)\n",
    "print (x_test.shape)\n"
   ]
  },
  {
   "cell_type": "code",
   "execution_count": 43,
   "metadata": {},
   "outputs": [
    {
     "name": "stdout",
     "output_type": "stream",
     "text": [
      "Train on 16 samples, validate on 15 samples\n",
      "Epoch 1/50\n",
      "16/16 [==============================] - 0s 237us/step - loss: 0.2540 - val_loss: 0.3809\n",
      "Epoch 2/50\n",
      "16/16 [==============================] - 0s 117us/step - loss: 0.2515 - val_loss: 0.3796\n",
      "Epoch 3/50\n",
      "16/16 [==============================] - 0s 181us/step - loss: 0.2491 - val_loss: 0.3781\n",
      "Epoch 4/50\n",
      "16/16 [==============================] - 0s 173us/step - loss: 0.2468 - val_loss: 0.3769\n",
      "Epoch 5/50\n",
      "16/16 [==============================] - 0s 119us/step - loss: 0.2443 - val_loss: 0.3756\n",
      "Epoch 6/50\n",
      "16/16 [==============================] - 0s 154us/step - loss: 0.2419 - val_loss: 0.3742\n",
      "Epoch 7/50\n",
      "16/16 [==============================] - 0s 128us/step - loss: 0.2395 - val_loss: 0.3729\n",
      "Epoch 8/50\n",
      "16/16 [==============================] - 0s 108us/step - loss: 0.2371 - val_loss: 0.3715\n",
      "Epoch 9/50\n",
      "16/16 [==============================] - 0s 124us/step - loss: 0.2348 - val_loss: 0.3703\n",
      "Epoch 10/50\n",
      "16/16 [==============================] - 0s 98us/step - loss: 0.2324 - val_loss: 0.3691\n",
      "Epoch 11/50\n",
      "16/16 [==============================] - 0s 113us/step - loss: 0.2300 - val_loss: 0.3678\n",
      "Epoch 12/50\n",
      "16/16 [==============================] - 0s 109us/step - loss: 0.2277 - val_loss: 0.3665\n",
      "Epoch 13/50\n",
      "16/16 [==============================] - 0s 156us/step - loss: 0.2253 - val_loss: 0.3653\n",
      "Epoch 14/50\n",
      "16/16 [==============================] - 0s 108us/step - loss: 0.2230 - val_loss: 0.3641\n",
      "Epoch 15/50\n",
      "16/16 [==============================] - 0s 98us/step - loss: 0.2206 - val_loss: 0.3628\n",
      "Epoch 16/50\n",
      "16/16 [==============================] - 0s 118us/step - loss: 0.2183 - val_loss: 0.3617\n",
      "Epoch 17/50\n",
      "16/16 [==============================] - 0s 107us/step - loss: 0.2160 - val_loss: 0.3605\n",
      "Epoch 18/50\n",
      "16/16 [==============================] - 0s 112us/step - loss: 0.2137 - val_loss: 0.3594\n",
      "Epoch 19/50\n",
      "16/16 [==============================] - 0s 108us/step - loss: 0.2114 - val_loss: 0.3583\n",
      "Epoch 20/50\n",
      "16/16 [==============================] - 0s 127us/step - loss: 0.2092 - val_loss: 0.3571\n",
      "Epoch 21/50\n",
      "16/16 [==============================] - 0s 109us/step - loss: 0.2069 - val_loss: 0.3560\n",
      "Epoch 22/50\n",
      "16/16 [==============================] - 0s 152us/step - loss: 0.2047 - val_loss: 0.3549\n",
      "Epoch 23/50\n",
      "16/16 [==============================] - 0s 244us/step - loss: 0.2025 - val_loss: 0.3538\n",
      "Epoch 24/50\n",
      "16/16 [==============================] - 0s 121us/step - loss: 0.2003 - val_loss: 0.3528\n",
      "Epoch 25/50\n",
      "16/16 [==============================] - 0s 107us/step - loss: 0.1981 - val_loss: 0.3517\n",
      "Epoch 26/50\n",
      "16/16 [==============================] - 0s 111us/step - loss: 0.1959 - val_loss: 0.3507\n",
      "Epoch 27/50\n",
      "16/16 [==============================] - 0s 196us/step - loss: 0.1938 - val_loss: 0.3497\n",
      "Epoch 28/50\n",
      "16/16 [==============================] - 0s 241us/step - loss: 0.1917 - val_loss: 0.3487\n",
      "Epoch 29/50\n",
      "16/16 [==============================] - 0s 123us/step - loss: 0.1895 - val_loss: 0.3477\n",
      "Epoch 30/50\n",
      "16/16 [==============================] - 0s 127us/step - loss: 0.1875 - val_loss: 0.3468\n",
      "Epoch 31/50\n",
      "16/16 [==============================] - 0s 98us/step - loss: 0.1854 - val_loss: 0.3458\n",
      "Epoch 32/50\n",
      "16/16 [==============================] - 0s 94us/step - loss: 0.1833 - val_loss: 0.3449\n",
      "Epoch 33/50\n",
      "16/16 [==============================] - 0s 164us/step - loss: 0.1813 - val_loss: 0.3440\n",
      "Epoch 34/50\n",
      "16/16 [==============================] - 0s 104us/step - loss: 0.1793 - val_loss: 0.3430\n",
      "Epoch 35/50\n",
      "16/16 [==============================] - 0s 104us/step - loss: 0.1773 - val_loss: 0.3423\n",
      "Epoch 36/50\n",
      "16/16 [==============================] - 0s 101us/step - loss: 0.1753 - val_loss: 0.3413\n",
      "Epoch 37/50\n",
      "16/16 [==============================] - 0s 102us/step - loss: 0.1733 - val_loss: 0.3404\n",
      "Epoch 38/50\n",
      "16/16 [==============================] - 0s 104us/step - loss: 0.1714 - val_loss: 0.3396\n",
      "Epoch 39/50\n",
      "16/16 [==============================] - 0s 120us/step - loss: 0.1695 - val_loss: 0.3388\n",
      "Epoch 40/50\n",
      "16/16 [==============================] - 0s 114us/step - loss: 0.1676 - val_loss: 0.3380\n",
      "Epoch 41/50\n",
      "16/16 [==============================] - 0s 112us/step - loss: 0.1657 - val_loss: 0.3372\n",
      "Epoch 42/50\n",
      "16/16 [==============================] - 0s 118us/step - loss: 0.1639 - val_loss: 0.3365\n",
      "Epoch 43/50\n",
      "16/16 [==============================] - 0s 128us/step - loss: 0.1621 - val_loss: 0.3356\n",
      "Epoch 44/50\n",
      "16/16 [==============================] - 0s 222us/step - loss: 0.1603 - val_loss: 0.3349\n",
      "Epoch 45/50\n",
      "16/16 [==============================] - 0s 110us/step - loss: 0.1585 - val_loss: 0.3341\n",
      "Epoch 46/50\n",
      "16/16 [==============================] - 0s 108us/step - loss: 0.1567 - val_loss: 0.3335\n",
      "Epoch 47/50\n",
      "16/16 [==============================] - 0s 130us/step - loss: 0.1550 - val_loss: 0.3328\n",
      "Epoch 48/50\n",
      "16/16 [==============================] - 0s 163us/step - loss: 0.1533 - val_loss: 0.3320\n",
      "Epoch 49/50\n",
      "16/16 [==============================] - 0s 102us/step - loss: 0.1516 - val_loss: 0.3314\n",
      "Epoch 50/50\n",
      "16/16 [==============================] - 0s 109us/step - loss: 0.1499 - val_loss: 0.3307\n"
     ]
    },
    {
     "data": {
      "text/plain": [
       "<keras.callbacks.History at 0x7fa3f81a1048>"
      ]
     },
     "execution_count": 43,
     "metadata": {},
     "output_type": "execute_result"
    }
   ],
   "source": [
    "autoencoder.fit(x_train, x_train,\n",
    "                epochs=50,\n",
    "                batch_size=256,\n",
    "                shuffle=True,\n",
    "                validation_data=(x_test, x_test))"
   ]
  },
  {
   "cell_type": "code",
   "execution_count": 44,
   "metadata": {},
   "outputs": [],
   "source": [
    "encoded_imgs = encoder.predict(x_test)\n",
    "decoded_imgs = decoder.predict(encoded_imgs)"
   ]
  },
  {
   "cell_type": "code",
   "execution_count": 45,
   "metadata": {},
   "outputs": [
    {
     "data": {
      "image/png": "[encoded data removed]",
      "text/plain": [
       "<Figure size 1440x288 with 20 Axes>"
      ]
     },
     "metadata": {
      "needs_background": "light"
     },
     "output_type": "display_data"
    }
   ],
   "source": [
    "import matplotlib.pyplot as plt\n",
    "\n",
    "n = 10  # how many digits we will display\n",
    "plt.figure(figsize=(20, 4))\n",
    "for i in range(n):\n",
    "    # display original\n",
    "    ax = plt.subplot(2, n, i + 1)\n",
    "    plt.imshow(x_test[i].reshape(28, 28))\n",
    "    plt.gray()\n",
    "    ax.get_xaxis().set_visible(False)\n",
    "    ax.get_yaxis().set_visible(False)\n",
    "\n",
    "    # display reconstruction\n",
    "    ax = plt.subplot(2, n, i + 1 + n)\n",
    "    plt.imshow(decoded_imgs[i].reshape(28, 28))\n",
    "    plt.gray()\n",
    "    ax.get_xaxis().set_visible(False)\n",
    "    ax.get_yaxis().set_visible(False)\n",
    "plt.show()"
   ]
  },
  {
   "cell_type": "code",
   "execution_count": null,
   "metadata": {},
   "outputs": [],
   "source": []
  }
 ],
 "metadata": {
  "kernelspec": {
   "display_name": "Python 3",
   "language": "python",
   "name": "python3"
  },
  "language_info": {
   "codemirror_mode": {
    "name": "ipython",
    "version": 3
   },
   "file_extension": ".py",
   "mimetype": "text/x-python",
   "name": "python",
   "nbconvert_exporter": "python",
   "pygments_lexer": "ipython3",
   "version": "3.6.8"
  }
 },
 "nbformat": 4,
 "nbformat_minor": 2
}
